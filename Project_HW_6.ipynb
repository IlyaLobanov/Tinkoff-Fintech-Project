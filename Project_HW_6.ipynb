{
  "cells": [
    {
      "cell_type": "code",
      "execution_count": null,
      "metadata": {
        "colab": {
          "base_uri": "https://localhost:8080/",
          "height": 17
        },
        "id": "7e162232",
        "outputId": "baccaa76-b47f-4c55-c85b-4e9a9c6f610a"
      },
      "outputs": [
        {
          "output_type": "display_data",
          "data": {
            "text/plain": [
              "<IPython.core.display.HTML object>"
            ],
            "text/html": [
              "<style>.container { width:100% !important; }</style>"
            ]
          },
          "metadata": {}
        }
      ],
      "source": [
        "from IPython.core.display import display, HTML\n",
        "\n",
        "display(HTML(\"<style>.container { width:100% !important; }</style>\"))"
      ],
      "id": "7e162232"
    },
    {
      "cell_type": "code",
      "execution_count": null,
      "metadata": {
        "colab": {
          "base_uri": "https://localhost:8080/"
        },
        "id": "-rQp77hCQj44",
        "outputId": "ed67d4d7-90cb-439a-86e5-70a7ac74cd51"
      },
      "outputs": [
        {
          "output_type": "stream",
          "name": "stdout",
          "text": [
            "Mounted at /content/drive\n"
          ]
        }
      ],
      "source": [
        "from google.colab import drive\n",
        "drive.mount('/content/drive')"
      ],
      "id": "-rQp77hCQj44"
    },
    {
      "cell_type": "code",
      "source": [
        "pip install lightgbm"
      ],
      "metadata": {
        "colab": {
          "base_uri": "https://localhost:8080/"
        },
        "id": "XiN2KsgsBL0g",
        "outputId": "ed0196b9-a6e2-49c6-93f5-4abd5512c2e5"
      },
      "id": "XiN2KsgsBL0g",
      "execution_count": null,
      "outputs": [
        {
          "output_type": "stream",
          "name": "stdout",
          "text": [
            "Requirement already satisfied: lightgbm in /usr/local/lib/python3.7/dist-packages (2.2.3)\n",
            "Requirement already satisfied: scipy in /usr/local/lib/python3.7/dist-packages (from lightgbm) (1.4.1)\n",
            "Requirement already satisfied: numpy in /usr/local/lib/python3.7/dist-packages (from lightgbm) (1.21.6)\n",
            "Requirement already satisfied: scikit-learn in /usr/local/lib/python3.7/dist-packages (from lightgbm) (1.0.2)\n",
            "Requirement already satisfied: threadpoolctl>=2.0.0 in /usr/local/lib/python3.7/dist-packages (from scikit-learn->lightgbm) (3.1.0)\n",
            "Requirement already satisfied: joblib>=0.11 in /usr/local/lib/python3.7/dist-packages (from scikit-learn->lightgbm) (1.1.0)\n"
          ]
        }
      ]
    },
    {
      "cell_type": "code",
      "execution_count": null,
      "metadata": {
        "colab": {
          "base_uri": "https://localhost:8080/",
          "height": 17
        },
        "id": "yaoi8tpGRTrn",
        "outputId": "af56c169-66d4-4570-fa1e-2465b95ab0b2"
      },
      "outputs": [
        {
          "output_type": "display_data",
          "data": {
            "text/plain": [
              "<IPython.core.display.HTML object>"
            ],
            "text/html": [
              "<style>.container { width:100% !important; }</style>"
            ]
          },
          "metadata": {}
        }
      ],
      "source": [
        "import importlib\n",
        "# import risk_instruments\n",
        "import pandas as pd\n",
        "import numpy as np\n",
        "import os\n",
        "import sys\n",
        "import pandas as pd\n",
        "import plotly.io as pio\n",
        "import seaborn as sns\n",
        "import plotly.graph_objects as go\n",
        "\n",
        "\n",
        "# from risk_instruments.database import DBconnect\n",
        "# from risk_instruments.universal_analysis import woe_stab, woe_line\n",
        "# from risk_instruments.express_analysis import gain_chart\n",
        "# from configures import user, password\n",
        "from sklearn.linear_model import LogisticRegression\n",
        "from sklearn.metrics import roc_auc_score, log_loss\n",
        "from sklearn.pipeline import Pipeline\n",
        "from IPython.core.display import display, HTML\n",
        "from sklearn.model_selection import train_test_split\n",
        "from sklearn.preprocessing import StandardScaler\n",
        "from scipy.stats.distributions import chi2\n",
        "from matplotlib import pyplot as plt\n",
        "from lightgbm import LGBMClassifier, plot_importance\n",
        "from scipy.stats import bernoulli, norm\n",
        "from plotly.subplots import make_subplots\n",
        "import lightgbm as lgb\n",
        "\n",
        "# importlib.reload(risk_instruments.database)\n",
        "pio.renderers.default='notebook'\n",
        "pd.set_option('max_columns', 500)\n",
        "pd.set_option('max_rows', 500)\n",
        "display(HTML(\"<style>.container { width:100% !important; }</style>\"))"
      ],
      "id": "yaoi8tpGRTrn"
    },
    {
      "cell_type": "code",
      "execution_count": null,
      "metadata": {
        "id": "pR7lyWKJRH7S"
      },
      "outputs": [],
      "source": [
        "path = '/content/drive/MyDrive/Colab Notebooks/scoring_model_data.csv'\n",
        "df = pd.read_csv(path)"
      ],
      "id": "pR7lyWKJRH7S"
    },
    {
      "cell_type": "code",
      "execution_count": null,
      "metadata": {
        "colab": {
          "base_uri": "https://localhost:8080/",
          "height": 353
        },
        "id": "pA1vVgXCSHsk",
        "outputId": "1e73a247-b2c9-4406-a1ad-3240d8192a59"
      },
      "outputs": [
        {
          "output_type": "execute_result",
          "data": {
            "text/plain": [
              "   user_id  d4p12    month_dt  max_util  avg_util  credits_2y  credits_4y  \\\n",
              "0        0      0  2019-01-01  0.991360  0.991360         0.0         1.0   \n",
              "1        1      0  2019-01-01  0.928482  0.271159         0.0         0.0   \n",
              "2        2      0  2019-01-01  1.418333  0.079951         0.0         0.0   \n",
              "3        3      0  2019-01-01  1.042425  0.230797         1.0         1.0   \n",
              "4        4      1  2019-01-01  0.960127  0.326562         2.0         2.0   \n",
              "\n",
              "   bad_history_credits_flg  other_util    avg_term  min_term  \\\n",
              "0                        1    1.000000   29.000000      29.0   \n",
              "1                        1    0.296724   86.928571       1.0   \n",
              "2                        1    0.219805   -0.065789     -24.0   \n",
              "3                        1    0.284345  116.615385      -5.0   \n",
              "4                        1    0.334188  188.200000       1.0   \n",
              "\n",
              "   avg_limit_mortgage  min_limit_mfo  close_balance_amt  soc_dem_score  \\\n",
              "0                -1.0           -1.0           51864.00      -5.898175   \n",
              "1                -1.0           -1.0         1424742.89      -7.067999   \n",
              "2                -1.0        20000.0          254827.00      -7.295431   \n",
              "3                -1.0           -1.0          138969.00      -5.073265   \n",
              "4                -1.0           -1.0           53620.00      -7.226236   \n",
              "\n",
              "   max_delq_cnt  avg_active_time  last_credit_time_years  \n",
              "0           0.0              NaN                     0.0  \n",
              "1           0.0             49.0                     1.0  \n",
              "2           0.0             47.0                    16.0  \n",
              "3           0.0             23.0                     3.0  \n",
              "4           0.0             14.0                     2.0  "
            ],
            "text/html": [
              "\n",
              "  <div id=\"df-c7cb7555-b67e-488b-bf13-0427031d647e\">\n",
              "    <div class=\"colab-df-container\">\n",
              "      <div>\n",
              "<style scoped>\n",
              "    .dataframe tbody tr th:only-of-type {\n",
              "        vertical-align: middle;\n",
              "    }\n",
              "\n",
              "    .dataframe tbody tr th {\n",
              "        vertical-align: top;\n",
              "    }\n",
              "\n",
              "    .dataframe thead th {\n",
              "        text-align: right;\n",
              "    }\n",
              "</style>\n",
              "<table border=\"1\" class=\"dataframe\">\n",
              "  <thead>\n",
              "    <tr style=\"text-align: right;\">\n",
              "      <th></th>\n",
              "      <th>user_id</th>\n",
              "      <th>d4p12</th>\n",
              "      <th>month_dt</th>\n",
              "      <th>max_util</th>\n",
              "      <th>avg_util</th>\n",
              "      <th>credits_2y</th>\n",
              "      <th>credits_4y</th>\n",
              "      <th>bad_history_credits_flg</th>\n",
              "      <th>other_util</th>\n",
              "      <th>avg_term</th>\n",
              "      <th>min_term</th>\n",
              "      <th>avg_limit_mortgage</th>\n",
              "      <th>min_limit_mfo</th>\n",
              "      <th>close_balance_amt</th>\n",
              "      <th>soc_dem_score</th>\n",
              "      <th>max_delq_cnt</th>\n",
              "      <th>avg_active_time</th>\n",
              "      <th>last_credit_time_years</th>\n",
              "    </tr>\n",
              "  </thead>\n",
              "  <tbody>\n",
              "    <tr>\n",
              "      <th>0</th>\n",
              "      <td>0</td>\n",
              "      <td>0</td>\n",
              "      <td>2019-01-01</td>\n",
              "      <td>0.991360</td>\n",
              "      <td>0.991360</td>\n",
              "      <td>0.0</td>\n",
              "      <td>1.0</td>\n",
              "      <td>1</td>\n",
              "      <td>1.000000</td>\n",
              "      <td>29.000000</td>\n",
              "      <td>29.0</td>\n",
              "      <td>-1.0</td>\n",
              "      <td>-1.0</td>\n",
              "      <td>51864.00</td>\n",
              "      <td>-5.898175</td>\n",
              "      <td>0.0</td>\n",
              "      <td>NaN</td>\n",
              "      <td>0.0</td>\n",
              "    </tr>\n",
              "    <tr>\n",
              "      <th>1</th>\n",
              "      <td>1</td>\n",
              "      <td>0</td>\n",
              "      <td>2019-01-01</td>\n",
              "      <td>0.928482</td>\n",
              "      <td>0.271159</td>\n",
              "      <td>0.0</td>\n",
              "      <td>0.0</td>\n",
              "      <td>1</td>\n",
              "      <td>0.296724</td>\n",
              "      <td>86.928571</td>\n",
              "      <td>1.0</td>\n",
              "      <td>-1.0</td>\n",
              "      <td>-1.0</td>\n",
              "      <td>1424742.89</td>\n",
              "      <td>-7.067999</td>\n",
              "      <td>0.0</td>\n",
              "      <td>49.0</td>\n",
              "      <td>1.0</td>\n",
              "    </tr>\n",
              "    <tr>\n",
              "      <th>2</th>\n",
              "      <td>2</td>\n",
              "      <td>0</td>\n",
              "      <td>2019-01-01</td>\n",
              "      <td>1.418333</td>\n",
              "      <td>0.079951</td>\n",
              "      <td>0.0</td>\n",
              "      <td>0.0</td>\n",
              "      <td>1</td>\n",
              "      <td>0.219805</td>\n",
              "      <td>-0.065789</td>\n",
              "      <td>-24.0</td>\n",
              "      <td>-1.0</td>\n",
              "      <td>20000.0</td>\n",
              "      <td>254827.00</td>\n",
              "      <td>-7.295431</td>\n",
              "      <td>0.0</td>\n",
              "      <td>47.0</td>\n",
              "      <td>16.0</td>\n",
              "    </tr>\n",
              "    <tr>\n",
              "      <th>3</th>\n",
              "      <td>3</td>\n",
              "      <td>0</td>\n",
              "      <td>2019-01-01</td>\n",
              "      <td>1.042425</td>\n",
              "      <td>0.230797</td>\n",
              "      <td>1.0</td>\n",
              "      <td>1.0</td>\n",
              "      <td>1</td>\n",
              "      <td>0.284345</td>\n",
              "      <td>116.615385</td>\n",
              "      <td>-5.0</td>\n",
              "      <td>-1.0</td>\n",
              "      <td>-1.0</td>\n",
              "      <td>138969.00</td>\n",
              "      <td>-5.073265</td>\n",
              "      <td>0.0</td>\n",
              "      <td>23.0</td>\n",
              "      <td>3.0</td>\n",
              "    </tr>\n",
              "    <tr>\n",
              "      <th>4</th>\n",
              "      <td>4</td>\n",
              "      <td>1</td>\n",
              "      <td>2019-01-01</td>\n",
              "      <td>0.960127</td>\n",
              "      <td>0.326562</td>\n",
              "      <td>2.0</td>\n",
              "      <td>2.0</td>\n",
              "      <td>1</td>\n",
              "      <td>0.334188</td>\n",
              "      <td>188.200000</td>\n",
              "      <td>1.0</td>\n",
              "      <td>-1.0</td>\n",
              "      <td>-1.0</td>\n",
              "      <td>53620.00</td>\n",
              "      <td>-7.226236</td>\n",
              "      <td>0.0</td>\n",
              "      <td>14.0</td>\n",
              "      <td>2.0</td>\n",
              "    </tr>\n",
              "  </tbody>\n",
              "</table>\n",
              "</div>\n",
              "      <button class=\"colab-df-convert\" onclick=\"convertToInteractive('df-c7cb7555-b67e-488b-bf13-0427031d647e')\"\n",
              "              title=\"Convert this dataframe to an interactive table.\"\n",
              "              style=\"display:none;\">\n",
              "        \n",
              "  <svg xmlns=\"http://www.w3.org/2000/svg\" height=\"24px\"viewBox=\"0 0 24 24\"\n",
              "       width=\"24px\">\n",
              "    <path d=\"M0 0h24v24H0V0z\" fill=\"none\"/>\n",
              "    <path d=\"M18.56 5.44l.94 2.06.94-2.06 2.06-.94-2.06-.94-.94-2.06-.94 2.06-2.06.94zm-11 1L8.5 8.5l.94-2.06 2.06-.94-2.06-.94L8.5 2.5l-.94 2.06-2.06.94zm10 10l.94 2.06.94-2.06 2.06-.94-2.06-.94-.94-2.06-.94 2.06-2.06.94z\"/><path d=\"M17.41 7.96l-1.37-1.37c-.4-.4-.92-.59-1.43-.59-.52 0-1.04.2-1.43.59L10.3 9.45l-7.72 7.72c-.78.78-.78 2.05 0 2.83L4 21.41c.39.39.9.59 1.41.59.51 0 1.02-.2 1.41-.59l7.78-7.78 2.81-2.81c.8-.78.8-2.07 0-2.86zM5.41 20L4 18.59l7.72-7.72 1.47 1.35L5.41 20z\"/>\n",
              "  </svg>\n",
              "      </button>\n",
              "      \n",
              "  <style>\n",
              "    .colab-df-container {\n",
              "      display:flex;\n",
              "      flex-wrap:wrap;\n",
              "      gap: 12px;\n",
              "    }\n",
              "\n",
              "    .colab-df-convert {\n",
              "      background-color: #E8F0FE;\n",
              "      border: none;\n",
              "      border-radius: 50%;\n",
              "      cursor: pointer;\n",
              "      display: none;\n",
              "      fill: #1967D2;\n",
              "      height: 32px;\n",
              "      padding: 0 0 0 0;\n",
              "      width: 32px;\n",
              "    }\n",
              "\n",
              "    .colab-df-convert:hover {\n",
              "      background-color: #E2EBFA;\n",
              "      box-shadow: 0px 1px 2px rgba(60, 64, 67, 0.3), 0px 1px 3px 1px rgba(60, 64, 67, 0.15);\n",
              "      fill: #174EA6;\n",
              "    }\n",
              "\n",
              "    [theme=dark] .colab-df-convert {\n",
              "      background-color: #3B4455;\n",
              "      fill: #D2E3FC;\n",
              "    }\n",
              "\n",
              "    [theme=dark] .colab-df-convert:hover {\n",
              "      background-color: #434B5C;\n",
              "      box-shadow: 0px 1px 3px 1px rgba(0, 0, 0, 0.15);\n",
              "      filter: drop-shadow(0px 1px 2px rgba(0, 0, 0, 0.3));\n",
              "      fill: #FFFFFF;\n",
              "    }\n",
              "  </style>\n",
              "\n",
              "      <script>\n",
              "        const buttonEl =\n",
              "          document.querySelector('#df-c7cb7555-b67e-488b-bf13-0427031d647e button.colab-df-convert');\n",
              "        buttonEl.style.display =\n",
              "          google.colab.kernel.accessAllowed ? 'block' : 'none';\n",
              "\n",
              "        async function convertToInteractive(key) {\n",
              "          const element = document.querySelector('#df-c7cb7555-b67e-488b-bf13-0427031d647e');\n",
              "          const dataTable =\n",
              "            await google.colab.kernel.invokeFunction('convertToInteractive',\n",
              "                                                     [key], {});\n",
              "          if (!dataTable) return;\n",
              "\n",
              "          const docLinkHtml = 'Like what you see? Visit the ' +\n",
              "            '<a target=\"_blank\" href=https://colab.research.google.com/notebooks/data_table.ipynb>data table notebook</a>'\n",
              "            + ' to learn more about interactive tables.';\n",
              "          element.innerHTML = '';\n",
              "          dataTable['output_type'] = 'display_data';\n",
              "          await google.colab.output.renderOutput(dataTable, element);\n",
              "          const docLink = document.createElement('div');\n",
              "          docLink.innerHTML = docLinkHtml;\n",
              "          element.appendChild(docLink);\n",
              "        }\n",
              "      </script>\n",
              "    </div>\n",
              "  </div>\n",
              "  "
            ]
          },
          "metadata": {},
          "execution_count": 11
        }
      ],
      "source": [
        "df.head()"
      ],
      "id": "pA1vVgXCSHsk"
    },
    {
      "cell_type": "markdown",
      "source": [
        "### Описание признаков\n",
        "\n",
        "1. max_util (максимальная утилизация по КК)\n",
        "2. avg_util (средняя утилизация по КК)\n",
        "3. credits_2y (количество кредитов за последние 2 года)\n",
        "4. credits_4y (количество кредитов за последние 4 года)\n",
        "5. bad_history_credits_flg (наличие кредитов в подозрительных кредитных организациях)\n",
        "6. other_util (отношение задолженности к сумме кредитов в других организациях)\n",
        "7. avg_term (средний срок кредита)\n",
        "8. min_term (минимальный срок кредита)\n",
        "9. avg_limit_mortgage (средний лимит по ипотекам)\n",
        "10. min_limit_mfo (минимальный лимит в мфо)\n",
        "11. close_balance_amt (выплаченная сумма)\n",
        "12. soc_dem_score (скоринговый балл основанный на соц-дем показателях)\n",
        "13. max_delq_cnt (максимальное число просрочек по кредиту)\n",
        "14. avg_active_time (среднее оставшееся время по открытам кредитам)\n",
        "15. last_credit_time_years (время (в годах) с последнего закрытого кредита)"
      ],
      "metadata": {
        "id": "FOPc4m18U0R2"
      },
      "id": "FOPc4m18U0R2"
    },
    {
      "cell_type": "markdown",
      "metadata": {
        "id": "c5a9c701"
      },
      "source": [
        "### Данные для построения приложены к домашнему заданию (data.csv)"
      ],
      "id": "c5a9c701"
    },
    {
      "cell_type": "markdown",
      "metadata": {
        "id": "bfc9185a"
      },
      "source": [
        "Привет! В этом задании тебе предстоит построить модель для задачи предсказания дефолта клиента. Тебе предоставлен набор признаков и целевая переменная — факт выхода клиентов в просрочку глубины 4 на горизонте 12 месяцев. Нужно провести анализ признаков и выявить наиболее релевантные к задаче, проанализировать их и простроить линейную модель. Этот проект не имеет жестких ограничений на многие пункты и допускает во многом **вольный подход** к его выполнению: например, мы предлагаем самостоятельно выбрать подход к заполнению пропущенных значений и не накладываем никаких ограничений. Таких пунктов в этом проекте много, цель проста: проанализировать то, как ты **самостоятельно** принимаешь решения. Единственное, советуем **аргументировать** свои решения и стараться **интепретировать** полученные результаты, аргументация будет также учтена при оценивании работы. "
      ],
      "id": "bfc9185a"
    },
    {
      "cell_type": "markdown",
      "metadata": {
        "id": "edcba25a"
      },
      "source": [
        "### Как будет оцениваться ваша работа: \n",
        "Все пункты (1-12) весят одинаково, итоговая оценка — количество правильно выполненных пунктов. В случае отсутствия аргументации/выводов за пункт ставится 0.5 "
      ],
      "id": "edcba25a"
    },
    {
      "cell_type": "markdown",
      "metadata": {
        "id": "288e1ed9"
      },
      "source": [
        "### Задание\n",
        "0. Разбейте выборку на train, val, test (обучение и анализ модели проводите на train). Разбиение аналогично тому, что проводилось на семинаре (60/20/20, без шаффла). В случае иного разбиения модель качество модели будет считаться **невалидным**. \n",
        "1. Исследуйте и  заполните пропуски, **обоснуйте** метод и выскажете свои предположения о возможных причинах их появления\n",
        "2. Отберите все признаки по ROC-AUC > 0.525\n",
        "3. Проведите EDA для трёх самых сильных признаков. Как думаете, как **интерпретировать** эти зависимости? (https://en.wikipedia.org/wiki/Exploratory_data_analysis)\n",
        "4. Постройте матрицу корреляций, удалите все сильные корреляты, поясните свой выбор\n",
        "5. Настройте градиентный бустинг так, чтобы на тесте качество было не меньше **0.646** (тест никак не должен участвовать в настройке модели) (https://lightgbm.readthedocs.io/en/latest/pythonapi/lightgbm.LGBMClassifier.html)\n",
        "6. Визуализируйте 7 самых сильных признаков по gain (https://lightgbm.readthedocs.io/en/latest/pythonapi/lightgbm.plot_importance.html) Как думаете, **как работает** самый сильный признак? Почему?(больше -> лучше, меньше -> лучше)\n",
        "7. Реализуйте функцию **stepwise** для логистической регрессии\n",
        "8. Отберите признаки с порогами 10 и 15% \n",
        "9. Обучите логистическую регрессию на признаках, **отобранных** по stepwise\n",
        "9. Визуализируйте силу признаков линейной модели\n",
        "10. Сильно ли различается результат по сравнению с бустингом? Как думаете, **почему**?\n",
        "11. Посчитайте **на тесте** ROC-AUC вашей модели, как считаете, не переобучилась ли она?"
      ],
      "id": "288e1ed9"
    },
    {
      "cell_type": "markdown",
      "metadata": {
        "id": "rpa2-BUXTCbS"
      },
      "source": [
        "0. Разбиние выборки на train, val, test"
      ],
      "id": "rpa2-BUXTCbS"
    },
    {
      "cell_type": "code",
      "execution_count": null,
      "metadata": {
        "colab": {
          "base_uri": "https://localhost:8080/"
        },
        "id": "0OYice8mTYch",
        "outputId": "f473ed31-5d86-4b49-e1d2-7c97231b66e5"
      },
      "outputs": [
        {
          "output_type": "execute_result",
          "data": {
            "text/plain": [
              "['max_util',\n",
              " 'avg_util',\n",
              " 'credits_2y',\n",
              " 'credits_4y',\n",
              " 'bad_history_credits_flg',\n",
              " 'other_util',\n",
              " 'avg_term',\n",
              " 'min_term',\n",
              " 'avg_limit_mortgage',\n",
              " 'min_limit_mfo',\n",
              " 'close_balance_amt',\n",
              " 'soc_dem_score',\n",
              " 'max_delq_cnt',\n",
              " 'avg_active_time',\n",
              " 'last_credit_time_years',\n",
              " 'sample_part']"
            ]
          },
          "metadata": {},
          "execution_count": 185
        }
      ],
      "source": [
        "# убрал столбец user_id, дату и сам таргет\n",
        "\n",
        "features = list(df.columns)\n",
        "features.remove('month_dt')\n",
        "features.remove('d4p12')\n",
        "features.remove('user_id')\n",
        "features"
      ],
      "id": "0OYice8mTYch"
    },
    {
      "cell_type": "code",
      "execution_count": null,
      "metadata": {
        "id": "yqQVVNehTLqj"
      },
      "outputs": [],
      "source": [
        "# делим наши данные с помощью функции с семинара\n",
        "def test_val_split(df, val_size=0.2, test_size=0.2):\n",
        "    \n",
        "    X_train, X_test, y_train, y_test = train_test_split(\n",
        "        df[features], df['d4p12'], test_size=val_size+test_size, shuffle=False)\n",
        "    df.assign(sample_part='')\n",
        "    df.loc[X_test.index, 'sample_part'] = 'test'\n",
        "    X_val, X_test, y_val, y_test = train_test_split(\n",
        "        df[features][df['sample_part'] == 'test'], df['d4p12'][df['sample_part'] == 'test'],\\\n",
        "        test_size=test_size / (test_size + val_size), shuffle=False)\n",
        "    df.loc[X_val.index, 'sample_part'] = 'validation'\n",
        "    df.loc[X_train.index, 'sample_part'] = 'train'\n",
        "    return df"
      ],
      "id": "yqQVVNehTLqj"
    },
    {
      "cell_type": "code",
      "execution_count": null,
      "metadata": {
        "id": "JLCLopl7TN-f"
      },
      "outputs": [],
      "source": [
        "df = df.sort_values(by=['user_id'])\n",
        "df = test_val_split(df)"
      ],
      "id": "JLCLopl7TN-f"
    },
    {
      "cell_type": "code",
      "execution_count": null,
      "metadata": {
        "colab": {
          "base_uri": "https://localhost:8080/",
          "height": 353
        },
        "id": "a8UmXxEa7DqN",
        "outputId": "11aff3db-e939-4c89-bd57-611883c4c56b"
      },
      "outputs": [
        {
          "output_type": "execute_result",
          "data": {
            "text/plain": [
              "   user_id  d4p12    month_dt  max_util  avg_util  credits_2y  credits_4y  \\\n",
              "0        0      0  2019-01-01  0.991360  0.991360         0.0         1.0   \n",
              "1        1      0  2019-01-01  0.928482  0.271159         0.0         0.0   \n",
              "2        2      0  2019-01-01  1.418333  0.079951         0.0         0.0   \n",
              "3        3      0  2019-01-01  1.042425  0.230797         1.0         1.0   \n",
              "4        4      1  2019-01-01  0.960127  0.326562         2.0         2.0   \n",
              "\n",
              "   bad_history_credits_flg  other_util    avg_term  min_term  \\\n",
              "0                        1    1.000000   29.000000      29.0   \n",
              "1                        1    0.296724   86.928571       1.0   \n",
              "2                        1    0.219805   -0.065789     -24.0   \n",
              "3                        1    0.284345  116.615385      -5.0   \n",
              "4                        1    0.334188  188.200000       1.0   \n",
              "\n",
              "   avg_limit_mortgage  min_limit_mfo  close_balance_amt  soc_dem_score  \\\n",
              "0                -1.0           -1.0           51864.00      -5.898175   \n",
              "1                -1.0           -1.0         1424742.89      -7.067999   \n",
              "2                -1.0        20000.0          254827.00      -7.295431   \n",
              "3                -1.0           -1.0          138969.00      -5.073265   \n",
              "4                -1.0           -1.0           53620.00      -7.226236   \n",
              "\n",
              "   max_delq_cnt  avg_active_time  last_credit_time_years sample_part  \n",
              "0           0.0              0.0                     0.0       train  \n",
              "1           0.0             49.0                     1.0       train  \n",
              "2           0.0             47.0                    16.0       train  \n",
              "3           0.0             23.0                     3.0       train  \n",
              "4           0.0             14.0                     2.0       train  "
            ],
            "text/html": [
              "\n",
              "  <div id=\"df-bd5846c9-059f-42b9-8b27-3a734cecf85b\">\n",
              "    <div class=\"colab-df-container\">\n",
              "      <div>\n",
              "<style scoped>\n",
              "    .dataframe tbody tr th:only-of-type {\n",
              "        vertical-align: middle;\n",
              "    }\n",
              "\n",
              "    .dataframe tbody tr th {\n",
              "        vertical-align: top;\n",
              "    }\n",
              "\n",
              "    .dataframe thead th {\n",
              "        text-align: right;\n",
              "    }\n",
              "</style>\n",
              "<table border=\"1\" class=\"dataframe\">\n",
              "  <thead>\n",
              "    <tr style=\"text-align: right;\">\n",
              "      <th></th>\n",
              "      <th>user_id</th>\n",
              "      <th>d4p12</th>\n",
              "      <th>month_dt</th>\n",
              "      <th>max_util</th>\n",
              "      <th>avg_util</th>\n",
              "      <th>credits_2y</th>\n",
              "      <th>credits_4y</th>\n",
              "      <th>bad_history_credits_flg</th>\n",
              "      <th>other_util</th>\n",
              "      <th>avg_term</th>\n",
              "      <th>min_term</th>\n",
              "      <th>avg_limit_mortgage</th>\n",
              "      <th>min_limit_mfo</th>\n",
              "      <th>close_balance_amt</th>\n",
              "      <th>soc_dem_score</th>\n",
              "      <th>max_delq_cnt</th>\n",
              "      <th>avg_active_time</th>\n",
              "      <th>last_credit_time_years</th>\n",
              "      <th>sample_part</th>\n",
              "    </tr>\n",
              "  </thead>\n",
              "  <tbody>\n",
              "    <tr>\n",
              "      <th>0</th>\n",
              "      <td>0</td>\n",
              "      <td>0</td>\n",
              "      <td>2019-01-01</td>\n",
              "      <td>0.991360</td>\n",
              "      <td>0.991360</td>\n",
              "      <td>0.0</td>\n",
              "      <td>1.0</td>\n",
              "      <td>1</td>\n",
              "      <td>1.000000</td>\n",
              "      <td>29.000000</td>\n",
              "      <td>29.0</td>\n",
              "      <td>-1.0</td>\n",
              "      <td>-1.0</td>\n",
              "      <td>51864.00</td>\n",
              "      <td>-5.898175</td>\n",
              "      <td>0.0</td>\n",
              "      <td>0.0</td>\n",
              "      <td>0.0</td>\n",
              "      <td>train</td>\n",
              "    </tr>\n",
              "    <tr>\n",
              "      <th>1</th>\n",
              "      <td>1</td>\n",
              "      <td>0</td>\n",
              "      <td>2019-01-01</td>\n",
              "      <td>0.928482</td>\n",
              "      <td>0.271159</td>\n",
              "      <td>0.0</td>\n",
              "      <td>0.0</td>\n",
              "      <td>1</td>\n",
              "      <td>0.296724</td>\n",
              "      <td>86.928571</td>\n",
              "      <td>1.0</td>\n",
              "      <td>-1.0</td>\n",
              "      <td>-1.0</td>\n",
              "      <td>1424742.89</td>\n",
              "      <td>-7.067999</td>\n",
              "      <td>0.0</td>\n",
              "      <td>49.0</td>\n",
              "      <td>1.0</td>\n",
              "      <td>train</td>\n",
              "    </tr>\n",
              "    <tr>\n",
              "      <th>2</th>\n",
              "      <td>2</td>\n",
              "      <td>0</td>\n",
              "      <td>2019-01-01</td>\n",
              "      <td>1.418333</td>\n",
              "      <td>0.079951</td>\n",
              "      <td>0.0</td>\n",
              "      <td>0.0</td>\n",
              "      <td>1</td>\n",
              "      <td>0.219805</td>\n",
              "      <td>-0.065789</td>\n",
              "      <td>-24.0</td>\n",
              "      <td>-1.0</td>\n",
              "      <td>20000.0</td>\n",
              "      <td>254827.00</td>\n",
              "      <td>-7.295431</td>\n",
              "      <td>0.0</td>\n",
              "      <td>47.0</td>\n",
              "      <td>16.0</td>\n",
              "      <td>train</td>\n",
              "    </tr>\n",
              "    <tr>\n",
              "      <th>3</th>\n",
              "      <td>3</td>\n",
              "      <td>0</td>\n",
              "      <td>2019-01-01</td>\n",
              "      <td>1.042425</td>\n",
              "      <td>0.230797</td>\n",
              "      <td>1.0</td>\n",
              "      <td>1.0</td>\n",
              "      <td>1</td>\n",
              "      <td>0.284345</td>\n",
              "      <td>116.615385</td>\n",
              "      <td>-5.0</td>\n",
              "      <td>-1.0</td>\n",
              "      <td>-1.0</td>\n",
              "      <td>138969.00</td>\n",
              "      <td>-5.073265</td>\n",
              "      <td>0.0</td>\n",
              "      <td>23.0</td>\n",
              "      <td>3.0</td>\n",
              "      <td>train</td>\n",
              "    </tr>\n",
              "    <tr>\n",
              "      <th>4</th>\n",
              "      <td>4</td>\n",
              "      <td>1</td>\n",
              "      <td>2019-01-01</td>\n",
              "      <td>0.960127</td>\n",
              "      <td>0.326562</td>\n",
              "      <td>2.0</td>\n",
              "      <td>2.0</td>\n",
              "      <td>1</td>\n",
              "      <td>0.334188</td>\n",
              "      <td>188.200000</td>\n",
              "      <td>1.0</td>\n",
              "      <td>-1.0</td>\n",
              "      <td>-1.0</td>\n",
              "      <td>53620.00</td>\n",
              "      <td>-7.226236</td>\n",
              "      <td>0.0</td>\n",
              "      <td>14.0</td>\n",
              "      <td>2.0</td>\n",
              "      <td>train</td>\n",
              "    </tr>\n",
              "  </tbody>\n",
              "</table>\n",
              "</div>\n",
              "      <button class=\"colab-df-convert\" onclick=\"convertToInteractive('df-bd5846c9-059f-42b9-8b27-3a734cecf85b')\"\n",
              "              title=\"Convert this dataframe to an interactive table.\"\n",
              "              style=\"display:none;\">\n",
              "        \n",
              "  <svg xmlns=\"http://www.w3.org/2000/svg\" height=\"24px\"viewBox=\"0 0 24 24\"\n",
              "       width=\"24px\">\n",
              "    <path d=\"M0 0h24v24H0V0z\" fill=\"none\"/>\n",
              "    <path d=\"M18.56 5.44l.94 2.06.94-2.06 2.06-.94-2.06-.94-.94-2.06-.94 2.06-2.06.94zm-11 1L8.5 8.5l.94-2.06 2.06-.94-2.06-.94L8.5 2.5l-.94 2.06-2.06.94zm10 10l.94 2.06.94-2.06 2.06-.94-2.06-.94-.94-2.06-.94 2.06-2.06.94z\"/><path d=\"M17.41 7.96l-1.37-1.37c-.4-.4-.92-.59-1.43-.59-.52 0-1.04.2-1.43.59L10.3 9.45l-7.72 7.72c-.78.78-.78 2.05 0 2.83L4 21.41c.39.39.9.59 1.41.59.51 0 1.02-.2 1.41-.59l7.78-7.78 2.81-2.81c.8-.78.8-2.07 0-2.86zM5.41 20L4 18.59l7.72-7.72 1.47 1.35L5.41 20z\"/>\n",
              "  </svg>\n",
              "      </button>\n",
              "      \n",
              "  <style>\n",
              "    .colab-df-container {\n",
              "      display:flex;\n",
              "      flex-wrap:wrap;\n",
              "      gap: 12px;\n",
              "    }\n",
              "\n",
              "    .colab-df-convert {\n",
              "      background-color: #E8F0FE;\n",
              "      border: none;\n",
              "      border-radius: 50%;\n",
              "      cursor: pointer;\n",
              "      display: none;\n",
              "      fill: #1967D2;\n",
              "      height: 32px;\n",
              "      padding: 0 0 0 0;\n",
              "      width: 32px;\n",
              "    }\n",
              "\n",
              "    .colab-df-convert:hover {\n",
              "      background-color: #E2EBFA;\n",
              "      box-shadow: 0px 1px 2px rgba(60, 64, 67, 0.3), 0px 1px 3px 1px rgba(60, 64, 67, 0.15);\n",
              "      fill: #174EA6;\n",
              "    }\n",
              "\n",
              "    [theme=dark] .colab-df-convert {\n",
              "      background-color: #3B4455;\n",
              "      fill: #D2E3FC;\n",
              "    }\n",
              "\n",
              "    [theme=dark] .colab-df-convert:hover {\n",
              "      background-color: #434B5C;\n",
              "      box-shadow: 0px 1px 3px 1px rgba(0, 0, 0, 0.15);\n",
              "      filter: drop-shadow(0px 1px 2px rgba(0, 0, 0, 0.3));\n",
              "      fill: #FFFFFF;\n",
              "    }\n",
              "  </style>\n",
              "\n",
              "      <script>\n",
              "        const buttonEl =\n",
              "          document.querySelector('#df-bd5846c9-059f-42b9-8b27-3a734cecf85b button.colab-df-convert');\n",
              "        buttonEl.style.display =\n",
              "          google.colab.kernel.accessAllowed ? 'block' : 'none';\n",
              "\n",
              "        async function convertToInteractive(key) {\n",
              "          const element = document.querySelector('#df-bd5846c9-059f-42b9-8b27-3a734cecf85b');\n",
              "          const dataTable =\n",
              "            await google.colab.kernel.invokeFunction('convertToInteractive',\n",
              "                                                     [key], {});\n",
              "          if (!dataTable) return;\n",
              "\n",
              "          const docLinkHtml = 'Like what you see? Visit the ' +\n",
              "            '<a target=\"_blank\" href=https://colab.research.google.com/notebooks/data_table.ipynb>data table notebook</a>'\n",
              "            + ' to learn more about interactive tables.';\n",
              "          element.innerHTML = '';\n",
              "          dataTable['output_type'] = 'display_data';\n",
              "          await google.colab.output.renderOutput(dataTable, element);\n",
              "          const docLink = document.createElement('div');\n",
              "          docLink.innerHTML = docLinkHtml;\n",
              "          element.appendChild(docLink);\n",
              "        }\n",
              "      </script>\n",
              "    </div>\n",
              "  </div>\n",
              "  "
            ]
          },
          "metadata": {},
          "execution_count": 165
        }
      ],
      "source": [
        "# проверил, что все нормально поделилось \n",
        "df.head()"
      ],
      "id": "a8UmXxEa7DqN"
    },
    {
      "cell_type": "code",
      "source": [
        "# убрал столбец распределения выборки\n",
        "features.remove('sample_part')"
      ],
      "metadata": {
        "id": "3Z2UK9SIkepn"
      },
      "id": "3Z2UK9SIkepn",
      "execution_count": null,
      "outputs": []
    },
    {
      "cell_type": "markdown",
      "metadata": {
        "id": "cJQbD1u27QdV"
      },
      "source": [
        "2. Сначала посчитаем ROC-AUC для каждой фичи, а затем при необходимости заполним пропуски."
      ],
      "id": "cJQbD1u27QdV"
    },
    {
      "cell_type": "code",
      "execution_count": null,
      "metadata": {
        "id": "3DnU-LUP7XST"
      },
      "outputs": [],
      "source": [
        "def filter_by_score(df, features=None, target='d4p12', score=roc_auc_score, greater_is_better=True, top_n=10):\n",
        "    if not features:\n",
        "        features = set(df.select_dtypes(include=['float64']).columns)\n",
        "    metrics = {}\n",
        "    for feature in features:\n",
        "        mask = (df[target].notna()) & (df[feature].notna())\n",
        "        metrics[feature] = max(roc_auc_score(df[target][mask], df[feature][mask]), 1-roc_auc_score(df[target][mask], df[feature][mask]))\n",
        "    if greater_is_better:\n",
        "        return pd.Series(metrics).sort_values(ascending=False).head(n=top_n)\n",
        "    return pd.Series(metrics).sort_values(ascending=True).head(n=top_n)"
      ],
      "id": "3DnU-LUP7XST"
    },
    {
      "cell_type": "code",
      "execution_count": null,
      "metadata": {
        "colab": {
          "base_uri": "https://localhost:8080/"
        },
        "id": "NHv5KEKMCkTs",
        "outputId": "daec23be-4abf-4b63-cb0d-3b0192a9f945"
      },
      "outputs": [
        {
          "output_type": "execute_result",
          "data": {
            "text/plain": [
              "max_util                   0.607726\n",
              "last_credit_time_years     0.589858\n",
              "soc_dem_score              0.587980\n",
              "avg_util                   0.587691\n",
              "other_util                 0.584153\n",
              "credits_4y                 0.567079\n",
              "close_balance_amt          0.562051\n",
              "credits_2y                 0.555507\n",
              "min_limit_mfo              0.542051\n",
              "avg_limit_mortgage         0.532081\n",
              "avg_active_time            0.515836\n",
              "avg_term                   0.510934\n",
              "bad_history_credits_flg    0.508900\n",
              "max_delq_cnt               0.503510\n",
              "min_term                   0.501341\n",
              "dtype: float64"
            ]
          },
          "metadata": {},
          "execution_count": 172
        }
      ],
      "source": [
        "# запускаем фильтрацию по roc_auc_score для каждой фичи по отдельности\n",
        "roc_features = filter_by_score(df, features, top_n = len(features))\n",
        "roc_features"
      ],
      "id": "NHv5KEKMCkTs"
    },
    {
      "cell_type": "markdown",
      "source": [
        "Видим, что большинство фичей прошли мнимальное пороговое значение ROC-AUC. Попробуем заполнить пропуски, чтобы оставшиеся фичи тоже прошли ограничение из условия. "
      ],
      "metadata": {
        "id": "b4LN_T_MU3Na"
      },
      "id": "b4LN_T_MU3Na"
    },
    {
      "cell_type": "markdown",
      "source": [
        "Про природу пропусков не смог много придумать. Посмотрев на признаки, я увидел, что есть признаки, которые зависят от каких-то внешних факторов(например, заодлжность в других организациях). Таких данных попросту может не быть у человека. В таком случае эти ячейки могут заполняться пустым значением. Также второй причиной может быть просто потеря данных в процессе их доставления до аналитиков(я уверен, что бывают сбои в системе, в момент которых некоторые данные могут безвозвратно теряться)"
      ],
      "metadata": {
        "id": "ffObMKS-0jqG"
      },
      "id": "ffObMKS-0jqG"
    },
    {
      "cell_type": "code",
      "source": [
        "# попробуем позаполнять пропуски разными способами. Посмотрим, получится ли у нас вытянуть еще какую-то фичу в нужное ограничение\n",
        "# 1. попробуем заполнить медианой\n",
        "second_roc_features = filter_by_score(df.fillna(df.median()), features, top_n = len(features))\n",
        "second_roc_features"
      ],
      "metadata": {
        "colab": {
          "base_uri": "https://localhost:8080/"
        },
        "id": "eBhWUqah8Zn2",
        "outputId": "390a9673-83b2-4e9c-df87-8ff05fded01c"
      },
      "id": "eBhWUqah8Zn2",
      "execution_count": null,
      "outputs": [
        {
          "output_type": "stream",
          "name": "stderr",
          "text": [
            "/usr/local/lib/python3.7/dist-packages/ipykernel_launcher.py:1: FutureWarning:\n",
            "\n",
            "Dropping of nuisance columns in DataFrame reductions (with 'numeric_only=None') is deprecated; in a future version this will raise TypeError.  Select only valid columns before calling the reduction.\n",
            "\n"
          ]
        },
        {
          "output_type": "execute_result",
          "data": {
            "text/plain": [
              "max_util                   0.607726\n",
              "last_credit_time_years     0.589858\n",
              "soc_dem_score              0.587980\n",
              "avg_util                   0.587691\n",
              "other_util                 0.584153\n",
              "credits_4y                 0.567079\n",
              "close_balance_amt          0.562051\n",
              "credits_2y                 0.555507\n",
              "min_limit_mfo              0.542051\n",
              "avg_limit_mortgage         0.532081\n",
              "avg_active_time            0.515836\n",
              "avg_term                   0.510934\n",
              "bad_history_credits_flg    0.508900\n",
              "max_delq_cnt               0.503510\n",
              "min_term                   0.501341\n",
              "dtype: float64"
            ]
          },
          "metadata": {},
          "execution_count": 173
        }
      ]
    },
    {
      "cell_type": "code",
      "source": [
        "# 2. попроубем заполнить просто ноликами\n",
        "third_roc_features = filter_by_score(df.fillna(0), features, top_n= len(features))\n",
        "third_roc_features"
      ],
      "metadata": {
        "colab": {
          "base_uri": "https://localhost:8080/"
        },
        "id": "BNsOgsFj8rmr",
        "outputId": "7800462f-7333-4e45-aa5a-153deeccef1a"
      },
      "id": "BNsOgsFj8rmr",
      "execution_count": null,
      "outputs": [
        {
          "output_type": "execute_result",
          "data": {
            "text/plain": [
              "max_util                   0.607726\n",
              "last_credit_time_years     0.589858\n",
              "soc_dem_score              0.587980\n",
              "avg_util                   0.587691\n",
              "other_util                 0.584153\n",
              "credits_4y                 0.567079\n",
              "close_balance_amt          0.562051\n",
              "credits_2y                 0.555507\n",
              "min_limit_mfo              0.542051\n",
              "avg_limit_mortgage         0.532081\n",
              "avg_active_time            0.515836\n",
              "avg_term                   0.510934\n",
              "bad_history_credits_flg    0.508900\n",
              "max_delq_cnt               0.503510\n",
              "min_term                   0.501341\n",
              "dtype: float64"
            ]
          },
          "metadata": {},
          "execution_count": 174
        }
      ]
    },
    {
      "cell_type": "code",
      "source": [
        "# попробуем заполнить средним(понимаю, что это вряд ли к чему-то хорошему приведет, но попробовал для себя:) )\n",
        "third_roc_features = filter_by_score(df.fillna(df.mean()), features, top_n= len(features))\n",
        "third_roc_features"
      ],
      "metadata": {
        "colab": {
          "base_uri": "https://localhost:8080/"
        },
        "id": "pkNLPk-_D-x6",
        "outputId": "09fc9b18-7446-441d-ad5d-97bbf969bca0"
      },
      "id": "pkNLPk-_D-x6",
      "execution_count": null,
      "outputs": [
        {
          "output_type": "stream",
          "name": "stderr",
          "text": [
            "/usr/local/lib/python3.7/dist-packages/ipykernel_launcher.py:1: FutureWarning:\n",
            "\n",
            "Dropping of nuisance columns in DataFrame reductions (with 'numeric_only=None') is deprecated; in a future version this will raise TypeError.  Select only valid columns before calling the reduction.\n",
            "\n"
          ]
        },
        {
          "output_type": "execute_result",
          "data": {
            "text/plain": [
              "max_util                   0.607726\n",
              "last_credit_time_years     0.589858\n",
              "soc_dem_score              0.587980\n",
              "avg_util                   0.587691\n",
              "other_util                 0.584153\n",
              "credits_4y                 0.567079\n",
              "close_balance_amt          0.562051\n",
              "credits_2y                 0.555507\n",
              "min_limit_mfo              0.542051\n",
              "avg_limit_mortgage         0.532081\n",
              "avg_active_time            0.515836\n",
              "avg_term                   0.510934\n",
              "bad_history_credits_flg    0.508900\n",
              "max_delq_cnt               0.503510\n",
              "min_term                   0.501341\n",
              "dtype: float64"
            ]
          },
          "metadata": {},
          "execution_count": 175
        }
      ]
    },
    {
      "cell_type": "markdown",
      "source": [
        "Проведем EDA для трех самых сильных признаков. У нас получилось, что самыми сильными признаками оказались max_util, last_credit_time_years и soc_dem_score. У меня здесь почему-то залагал ноутбук и не отображались графики из библиотеки plotly express. Пришлось экстренно переделывать. "
      ],
      "metadata": {
        "id": "SEh3x6BrKBYK"
      },
      "id": "SEh3x6BrKBYK"
    },
    {
      "cell_type": "code",
      "source": [
        "# Выделим из списка три самые сильные фичи\n",
        "str_features = ['max_util', 'last_credit_time_years', 'soc_dem_score']"
      ],
      "metadata": {
        "id": "1k3tLM7gKA6D"
      },
      "id": "1k3tLM7gKA6D",
      "execution_count": null,
      "outputs": []
    },
    {
      "cell_type": "code",
      "source": [
        "# в итоге заполним все ноликами(улучшить не получилось)\n",
        "df = df.fillna(0)"
      ],
      "metadata": {
        "id": "V1J8CGtILpiY"
      },
      "id": "V1J8CGtILpiY",
      "execution_count": null,
      "outputs": []
    },
    {
      "cell_type": "code",
      "source": [
        "fig, axs = plt.subplots(figsize=(16, 5), ncols=3)\n",
        "for i, feature in enumerate(['max_util', 'last_credit_time_years', 'soc_dem_score']):\n",
        "    axs[i].scatter(df[feature], df['d4p12'], alpha=0.2)\n",
        "    axs[i].set_xlabel(feature)\n",
        "    axs[i].set_ylabel(\"max_util\")\n",
        "plt.tight_layout()"
      ],
      "metadata": {
        "colab": {
          "base_uri": "https://localhost:8080/",
          "height": 369
        },
        "id": "ah9xZhwQ77IF",
        "outputId": "602a943e-da55-41ac-a34e-d24727fb97a9"
      },
      "id": "ah9xZhwQ77IF",
      "execution_count": null,
      "outputs": [
        {
          "output_type": "display_data",
          "data": {
            "text/plain": [
              "<Figure size 1152x360 with 3 Axes>"
            ],
            "image/png": "[encoded data removed]"
          },
          "metadata": {
            "needs_background": "light"
          }
        }
      ]
    },
    {
      "cell_type": "code",
      "source": [
        "import plotly.express as px\n",
        "%matplotlib inline \n",
        "\n",
        "sns_plot = sns.distplot(df['max_util'])\n",
        "fig = sns_plot.get_figure()"
      ],
      "metadata": {
        "colab": {
          "base_uri": "https://localhost:8080/",
          "height": 368
        },
        "id": "0f7o17rZx4La",
        "outputId": "e7ed7e9a-9c50-4e3d-c8d2-94259acdf534"
      },
      "id": "0f7o17rZx4La",
      "execution_count": null,
      "outputs": [
        {
          "output_type": "stream",
          "name": "stderr",
          "text": [
            "/usr/local/lib/python3.7/dist-packages/seaborn/distributions.py:2619: FutureWarning:\n",
            "\n",
            "`distplot` is a deprecated function and will be removed in a future version. Please adapt your code to use either `displot` (a figure-level function with similar flexibility) or `histplot` (an axes-level function for histograms).\n",
            "\n"
          ]
        },
        {
          "output_type": "display_data",
          "data": {
            "text/plain": [
              "<Figure size 432x288 with 1 Axes>"
            ],
            "image/png": "[encoded data removed]"
          },
          "metadata": {
            "needs_background": "light"
          }
        }
      ]
    },
    {
      "cell_type": "code",
      "source": [
        "sns_plot = sns.distplot(df['last_credit_time_years'])\n",
        "fig = sns_plot.get_figure()"
      ],
      "metadata": {
        "colab": {
          "base_uri": "https://localhost:8080/",
          "height": 368
        },
        "id": "GBJSAzazymn2",
        "outputId": "0628d457-2d40-43dd-d67d-371795603a1e"
      },
      "id": "GBJSAzazymn2",
      "execution_count": null,
      "outputs": [
        {
          "output_type": "stream",
          "name": "stderr",
          "text": [
            "/usr/local/lib/python3.7/dist-packages/seaborn/distributions.py:2619: FutureWarning:\n",
            "\n",
            "`distplot` is a deprecated function and will be removed in a future version. Please adapt your code to use either `displot` (a figure-level function with similar flexibility) or `histplot` (an axes-level function for histograms).\n",
            "\n"
          ]
        },
        {
          "output_type": "display_data",
          "data": {
            "text/plain": [
              "<Figure size 432x288 with 1 Axes>"
            ],
            "image/png": "[encoded data removed]"
          },
          "metadata": {
            "needs_background": "light"
          }
        }
      ]
    },
    {
      "cell_type": "code",
      "source": [
        "sns_plot = sns.distplot(df['soc_dem_score'])\n",
        "fig = sns_plot.get_figure()"
      ],
      "metadata": {
        "colab": {
          "base_uri": "https://localhost:8080/",
          "height": 368
        },
        "id": "Wj_KQxtR3H9m",
        "outputId": "47974acf-14a1-44fd-8c95-4af56af9a754"
      },
      "id": "Wj_KQxtR3H9m",
      "execution_count": null,
      "outputs": [
        {
          "output_type": "stream",
          "name": "stderr",
          "text": [
            "/usr/local/lib/python3.7/dist-packages/seaborn/distributions.py:2619: FutureWarning:\n",
            "\n",
            "`distplot` is a deprecated function and will be removed in a future version. Please adapt your code to use either `displot` (a figure-level function with similar flexibility) or `histplot` (an axes-level function for histograms).\n",
            "\n"
          ]
        },
        {
          "output_type": "display_data",
          "data": {
            "text/plain": [
              "<Figure size 432x288 with 1 Axes>"
            ],
            "image/png": "[encoded data removed]"
          },
          "metadata": {
            "needs_background": "light"
          }
        }
      ]
    },
    {
      "cell_type": "code",
      "source": [
        ""
      ],
      "metadata": {
        "id": "JQAsFrNC6Z3U"
      },
      "id": "JQAsFrNC6Z3U",
      "execution_count": null,
      "outputs": []
    },
    {
      "cell_type": "markdown",
      "source": [
        "3. Построим матрицу корреляций по аналогии семинаром. "
      ],
      "metadata": {
        "id": "zBsP2qQPMKrN"
      },
      "id": "zBsP2qQPMKrN"
    },
    {
      "cell_type": "code",
      "source": [
        "# построим матрицу корреляций \n",
        "plt.figure(figsize=(16, 14))\n",
        "\n",
        "\n",
        "heatmap = sns.heatmap(df[features].corr(), mask=None, vmin=-1, vmax=1, annot=True, fmt=\".2f\")\n",
        "heatmap.set_title('Матрица корреляций', fontdict={'fontsize':24}, pad=16);"
      ],
      "metadata": {
        "colab": {
          "base_uri": "https://localhost:8080/",
          "height": 949
        },
        "id": "m2Z-wz8yMK0S",
        "outputId": "4dcbaaf9-448b-4f7c-8d45-b389247d8b11"
      },
      "id": "m2Z-wz8yMK0S",
      "execution_count": null,
      "outputs": [
        {
          "output_type": "display_data",
          "data": {
            "text/plain": [
              "<Figure size 1152x1008 with 2 Axes>"
            ],
            "image/png": "[encoded data removed]"
          },
          "metadata": {
            "needs_background": "light"
          }
        }
      ]
    },
    {
      "cell_type": "markdown",
      "metadata": {
        "id": "4e53c5a4"
      },
      "source": [
        "Видим, что есть две пары фичей, которые сильно коррелируют друг с другом(коэффициент больше 0.3): \n",
        "1. max_util, avg_util\n",
        "2. min_term, avg_term\n",
        "3. credit_4y, credit_2y\n",
        "Достаточно логично почему получились именно эти пары фичей. Мы видим, что это просто различные показатели одних и тех же вещей. То есть по сути, информацию они несут одну и ту же. Поэтому и сильно коррелируют между собой. \n",
        "Удалим из пару ту фияу, у которой метрика ROC-AUC получалась ниже. \n",
        "Соответственно удалим: avg_util, min_term, credit_2y\n",
        "\n"
      ],
      "id": "4e53c5a4"
    },
    {
      "cell_type": "markdown",
      "source": [
        "4. Настроим градиентный бустинг. Для этого создадим словарь парметров по аналогии с одной из прошлых дз и переберем на имеющихся параметрах комбинации различных гиперпараметров. Обучим модель на трейне с каждой комбинацией гиперпараметров и выберем ту, которая на валидационной выборке дает наилучшее качество. "
      ],
      "metadata": {
        "id": "rWkH5-QZoePy"
      },
      "id": "rWkH5-QZoePy"
    },
    {
      "cell_type": "code",
      "source": [
        "# выкидываем фичи, которые коррелируют друг с другом\n",
        "features.remove('avg_util')\n",
        "features.remove('credits_2y')\n",
        "features.remove('min_term')\n",
        "\n"
      ],
      "metadata": {
        "id": "BWnQix8JK2PK"
      },
      "id": "BWnQix8JK2PK",
      "execution_count": null,
      "outputs": []
    },
    {
      "cell_type": "code",
      "source": [
        "# проверяем, что список фичей именно тот, который нам нужен\n",
        "features"
      ],
      "metadata": {
        "colab": {
          "base_uri": "https://localhost:8080/"
        },
        "id": "OoM01wy9lvbE",
        "outputId": "7f3cb37b-9fe7-4d83-aadb-74ce00f75ca1"
      },
      "id": "OoM01wy9lvbE",
      "execution_count": null,
      "outputs": [
        {
          "output_type": "execute_result",
          "data": {
            "text/plain": [
              "['max_util',\n",
              " 'credits_4y',\n",
              " 'bad_history_credits_flg',\n",
              " 'other_util',\n",
              " 'avg_term',\n",
              " 'avg_limit_mortgage',\n",
              " 'min_limit_mfo',\n",
              " 'close_balance_amt',\n",
              " 'soc_dem_score',\n",
              " 'max_delq_cnt',\n",
              " 'avg_active_time',\n",
              " 'last_credit_time_years']"
            ]
          },
          "metadata": {},
          "execution_count": 188
        }
      ]
    },
    {
      "cell_type": "code",
      "source": [
        "# здесь я удалил столбец, который нам больше не нужен \n",
        "features.remove('sample_part')\n"
      ],
      "metadata": {
        "id": "3xSd_PLgL6Iz"
      },
      "id": "3xSd_PLgL6Iz",
      "execution_count": null,
      "outputs": []
    },
    {
      "cell_type": "code",
      "source": [
        "# удаляем слабые фичи(по ROC-AUC)\n",
        "features.remove('avg_active_time')\n",
        "features.remove('avg_term')\n",
        "features.remove('bad_history_credits_flg')\n",
        "features.remove('max_delq_cnt')\n"
      ],
      "metadata": {
        "id": "F7ophKH6LRZu"
      },
      "id": "F7ophKH6LRZu",
      "execution_count": null,
      "outputs": []
    },
    {
      "cell_type": "code",
      "source": [
        "# опять же проверяем, что все ок(проверка лишней не бывает!)\n",
        "features"
      ],
      "metadata": {
        "colab": {
          "base_uri": "https://localhost:8080/"
        },
        "id": "dwJJlNKdNV3A",
        "outputId": "0a4997ce-7573-43c6-b3f1-5ec4f628f975"
      },
      "id": "dwJJlNKdNV3A",
      "execution_count": null,
      "outputs": [
        {
          "output_type": "execute_result",
          "data": {
            "text/plain": [
              "['max_util',\n",
              " 'credits_4y',\n",
              " 'other_util',\n",
              " 'avg_limit_mortgage',\n",
              " 'min_limit_mfo',\n",
              " 'close_balance_amt',\n",
              " 'soc_dem_score',\n",
              " 'last_credit_time_years']"
            ]
          },
          "metadata": {},
          "execution_count": 190
        }
      ]
    },
    {
      "cell_type": "code",
      "source": [
        "# Здесь я решил сделать по аналогии с одной из прошлых домашек. Я сделал словарь с большим кол-во параметров(так как не хотел перебирать руками).\n",
        "# Применил прикольную функцию из библиотеки, которая сильно упрощает жизнь в дальнейшем закинул это в функцию\n",
        "from sklearn.model_selection import ParameterGrid\n",
        "from sklearn.metrics import roc_auc_score\n",
        "# рассмотрим комбинации вот этих параметров\n",
        "params_dict = {'boosting_type': ['gbdt'], 'n_estimators': [100, 500, 1000], 'learning_rate': [0.5, 0.1, 1e-2],\n",
        "               'max_depth': [2,3,4], 'num_leaves': [50, 100], 'min_child_samples': [5,10]}\n",
        "\n",
        "param_list = list(ParameterGrid(params_dict))\n"
      ],
      "metadata": {
        "id": "WoYNtp8BobEN"
      },
      "id": "WoYNtp8BobEN",
      "execution_count": null,
      "outputs": []
    },
    {
      "cell_type": "code",
      "source": [
        "# Разделил наши данные на датафрейм фичей и таргета для каждого типа \n",
        "X_train = df[df['sample_part'] == 'train'][features]\n",
        "y_train = df[df['sample_part'] == 'train']['d4p12']\n",
        "\n",
        "X_val = df[df['sample_part'] == 'validation'][features]\n",
        "y_val = df[df['sample_part'] == 'validation']['d4p12']\n",
        "\n",
        "X_test = df[df['sample_part'] == 'test'][features]\n",
        "y_test = df[df['sample_part'] == 'test']['d4p12']\n"
      ],
      "metadata": {
        "id": "VyJpdMnlAmE5"
      },
      "id": "VyJpdMnlAmE5",
      "execution_count": null,
      "outputs": []
    },
    {
      "cell_type": "code",
      "source": [
        "# добавил функцию построения roc_auc кривой(ояень красивая просто, мне нравится )\n",
        "\n",
        "def roc_auc(y_true, y_pred):\n",
        "    \"\"\"Считает ROC AUC\n",
        "    y_true - метки классов (0/1)\n",
        "    y_pred - предсказания модели\n",
        "    \"\"\"\n",
        "    n1_all = np.sum(y_true)\n",
        "    n0_all = len(y_true) - n1_all\n",
        "    \n",
        "    df = pd.DataFrame()\n",
        "    df['y_true'] = y_true\n",
        "    df['y_pred'] = y_pred\n",
        "    \n",
        "    df = df.groupby('y_pred').agg({'y_true' : ['sum', 'count']})\n",
        "    df.iloc[:, 1] -= df.iloc[:, 0]\n",
        "    df.columns = ['n1', 'n0']\n",
        "    \n",
        "    #df = df.sort_values('y_pred', ascending=False)\n",
        "    \n",
        "    df = df.iloc[::-1, :]\n",
        "    \n",
        "    tpr = [0]\n",
        "    fpr = [0]\n",
        "    roc_auc = 0.0\n",
        "    \n",
        "    for i in range(len(df)):\n",
        "        tpr.append(tpr[-1] + df.iloc[i]['n1'] / n1_all)\n",
        "        fpr.append(fpr[-1] + df.iloc[i]['n0'] / n0_all)\n",
        "        roc_auc += (fpr[-1] - fpr[-2]) * (tpr[-1] + tpr[-2]) / 2\n",
        "        \n",
        "    plt.figure(figsize=(7, 7))\n",
        "    plt.plot(fpr, tpr)\n",
        "    plt.plot([0, 1], [0, 1], ls='--')\n",
        "    plt.xlabel('FPR')\n",
        "    plt.ylabel('TPR')\n",
        "    plt.title(f'ROC AUC = {roc_auc:.3f}')\n",
        "        \n",
        "    return roc_auc"
      ],
      "metadata": {
        "id": "5w6j3sxp85gD"
      },
      "id": "5w6j3sxp85gD",
      "execution_count": null,
      "outputs": []
    },
    {
      "cell_type": "code",
      "source": [
        "# непосредственно сама функция перебора параметров:\n",
        "'''\n",
        "здесь все довольно просто:\n",
        "для каждой комбинации парметров из моего набора я обучаю бустинг на трейне.\n",
        "Затем считают качестве на валидационной выборке и выбираю наилучшие парметры. \n",
        "\n",
        "'''\n",
        "def grid_search(X_train, y_train, X_val, y_val, params_list):\n",
        "  \n",
        "    max_score = 0\n",
        "    \n",
        "    for el in params_list:\n",
        "        clf = lgb.LGBMClassifier(boosting_type= el['boosting_type'], \n",
        "                        n_estimators = el['n_estimators'],\n",
        "                        learning_rate = el['learning_rate'],\n",
        "                        max_depth = el['max_depth'],\n",
        "                        num_leaves = el['num_leaves'],\n",
        "                        min_child_samples = el['min_child_samples'],\n",
        "                        random_state = 42)\n",
        "        \n",
        "        clf.fit(X_train, y_train) #учим\n",
        "        y_pred = clf.predict_proba(X_val)[:, 1]\n",
        "        val_roc_score = roc_auc_score(y_val, y_pred)\n",
        "\n",
        "        if val_roc_score > max_score:\n",
        "          max_score = val_roc_score\n",
        "          best_model = el\n",
        "\n",
        "    print(f'Лучший roc_auc_score равен {max_score}')\n",
        "    print(f'Лучшие параметры: {best_model}')\n",
        "    \n",
        "    return (best_model)"
      ],
      "metadata": {
        "id": "orvjlJhHpNpn"
      },
      "id": "orvjlJhHpNpn",
      "execution_count": null,
      "outputs": []
    },
    {
      "cell_type": "code",
      "source": [
        "best_params = grid_search(X_train, y_train, X_val, y_val, param_list)"
      ],
      "metadata": {
        "colab": {
          "base_uri": "https://localhost:8080/"
        },
        "id": "1twiXnRbA6VP",
        "outputId": "a22e6ba9-b284-4397-ddae-f750fefe15a6"
      },
      "id": "1twiXnRbA6VP",
      "execution_count": null,
      "outputs": [
        {
          "output_type": "stream",
          "name": "stdout",
          "text": [
            "Лучший roc_auc_score равен 0.6489468473696789\n",
            "Лучшие параметры: {'boosting_type': 'gbdt', 'learning_rate': 0.01, 'max_depth': 2, 'min_child_samples': 20, 'n_estimators': 500, 'num_leaves': 50}\n"
          ]
        }
      ]
    },
    {
      "cell_type": "markdown",
      "source": [
        "Здесь я получил оптимальные параметры и самое время посмотреть на качество на тесте "
      ],
      "metadata": {
        "id": "YItV6MPHwDKz"
      },
      "id": "YItV6MPHwDKz"
    },
    {
      "cell_type": "code",
      "source": [
        "clf = lgb.LGBMClassifier(boosting_type = best_params['boosting_type'],\n",
        "                         learning_rate = best_params['learning_rate'],\n",
        "                         max_depth = best_params['max_depth'],\n",
        "                         n_estimators = best_params['n_estimators'],\n",
        "                         num_leaves = best_params['num_leaves'],\n",
        "                         min_child_samples = best_params['min_child_samples'],\n",
        "                         random_state = 42)\n",
        "clf.fit(X_train, y_train)\n",
        "y_pred = clf.predict_proba(X_test)[:, 1]\n",
        "roc_auc(y_test, y_pred)\n",
        "score = roc_auc_score(y_test, y_pred)\n",
        "print(score)"
      ],
      "metadata": {
        "colab": {
          "base_uri": "https://localhost:8080/",
          "height": 475
        },
        "id": "G90bH2ZR3oQc",
        "outputId": "34b4f1a1-fae9-41c6-8f37-c72d48521b72"
      },
      "id": "G90bH2ZR3oQc",
      "execution_count": null,
      "outputs": [
        {
          "output_type": "stream",
          "name": "stdout",
          "text": [
            "0.6400743096223069\n"
          ]
        },
        {
          "output_type": "display_data",
          "data": {
            "text/plain": [
              "<Figure size 504x504 with 1 Axes>"
            ],
            "image/png": "[encoded data removed]"
          },
          "metadata": {
            "needs_background": "light"
          }
        }
      ]
    },
    {
      "cell_type": "markdown",
      "source": [
        "Качество немного не дотягивает до нужного в условии. Думаю стоило побольше поперебирать различные наборы параметров. В конце пояивлась идея после первого прогона добавить его словарь параметров и попробовать закомбинировать их, но честно говоря времени уже не хватило"
      ],
      "metadata": {
        "id": "l60NauZSwIOp"
      },
      "id": "l60NauZSwIOp"
    },
    {
      "cell_type": "markdown",
      "source": [
        "5. Посмотрим на самые сильные признаки по gain."
      ],
      "metadata": {
        "id": "QcZLhbVq2lCK"
      },
      "id": "QcZLhbVq2lCK"
    },
    {
      "cell_type": "code",
      "source": [
        "lgb.plot_importance(clf, importance_type='gain', max_num_features=7, precision=2)\n",
        "plt.tight_layout()\n",
        "plt.show()"
      ],
      "metadata": {
        "colab": {
          "base_uri": "https://localhost:8080/",
          "height": 297
        },
        "id": "TI1ji1T22qZz",
        "outputId": "cedf7ee3-09c3-4ddd-e70a-201e46c93592"
      },
      "id": "TI1ji1T22qZz",
      "execution_count": null,
      "outputs": [
        {
          "output_type": "display_data",
          "data": {
            "text/plain": [
              "<Figure size 432x288 with 1 Axes>"
            ],
            "image/png": "[encoded data removed]"
          },
          "metadata": {
            "needs_background": "light"
          }
        }
      ]
    },
    {
      "cell_type": "markdown",
      "source": [
        " Самой важной фичей оказалась max_util. Так как max_util это максимальное отношение кредита к лимиту, то получается, что чем больше значение кредита тем больше становится это значение. То есть, чем больше это значение, тем хуже "
      ],
      "metadata": {
        "id": "j3vRn9SEzul-"
      },
      "id": "j3vRn9SEzul-"
    },
    {
      "cell_type": "code",
      "source": [
        "new_features = ['max_util', 'close_balance_amt', 'soc_dem_score', 'other_util', 'last_credit_time_years', 'min_limit_mfo', 'avg_limit_mortgage']"
      ],
      "metadata": {
        "id": "DfognNzagF2o"
      },
      "id": "DfognNzagF2o",
      "execution_count": null,
      "outputs": []
    },
    {
      "cell_type": "markdown",
      "source": [
        "6. Реализуем stepwise. "
      ],
      "metadata": {
        "id": "cCQpH3k72qg7"
      },
      "id": "cCQpH3k72qg7"
    },
    {
      "cell_type": "code",
      "source": [
        "def likelihood_ratio_test(ll_short, ll_long):\n",
        "    \n",
        "    lr = 2 * (ll_short - ll_long)\n",
        "    return chi2.sf(lr, 1)"
      ],
      "metadata": {
        "id": "Aq93h3It23OX"
      },
      "id": "Aq93h3It23OX",
      "execution_count": null,
      "outputs": []
    },
    {
      "cell_type": "code",
      "source": [
        "def stepwise_selection(df, features, alpha_in, alpha_out, target='d4p12'):\n",
        "    # запишем сначала блок с семинара, затем допишем к нему такой блок, в котором мы убираем фичу из нашего множества\n",
        "    selected_features = list()\n",
        "    n = df.shape[0]\n",
        "    p_value = 1\n",
        "    while True:\n",
        "        potential_features = list(set(features) - set(selected_features))\n",
        "        best_feature = ''\n",
        "        for feature in potential_features:\n",
        "            temp_features = [feature] + selected_features\n",
        "            lr_short = LogisticRegression(penalty='none', max_iter=500)\n",
        "            lr_long = LogisticRegression(penalty='none', max_iter=500)\n",
        "            if len(selected_features) == 0:\n",
        "                const = pd.Series([1]*df.shape[0])\n",
        "                lr_short.fit(np.array(const).reshape(-1, 1), df[target])\n",
        "                ll_short = log_loss(df[target], lr_short.predict_proba(np.array(const).reshape(-1, 1))[:, 1], normalize=False) \n",
        "                lr_long.fit(np.array(df[temp_features]).reshape(-1, 1), df[target])\n",
        "                ll_long = log_loss(df[target], lr_long.predict_proba(np.array(df[temp_features]).reshape(-1, 1))[:, 1], normalize=False)\n",
        "            else:\n",
        "                lr_short.fit(df[selected_features], df[target])\n",
        "                ll_short = log_loss(df[target], lr_short.predict_proba(df[selected_features])[:, 1], normalize=False)\n",
        "                lr_long.fit(df[temp_features], df[target])\n",
        "                ll_long = log_loss(df[target], lr_long.predict_proba(df[temp_features])[:, 1], normalize=False)\n",
        "            if likelihood_ratio_test(ll_short, ll_long) < alpha_in and likelihood_ratio_test(ll_short, ll_long) < p_value:\n",
        "                p_value = likelihood_ratio_test(ll_short, ll_long)\n",
        "                best_feature = feature\n",
        "        if best_feature == '':\n",
        "            break\n",
        "        else:\n",
        "            selected_features.append(best_feature)\n",
        "            print(f\"В модель была добавлена переменная {best_feature}, p-value: {round(p_value, 4)}\")\n",
        "\n",
        "        p_value = 0\n",
        "\n",
        "        worst_feature = ''\n",
        "        for feature in selected_features:\n",
        "            temp_features = selected_features.copy()\n",
        "            temp_features.remove(feature)\n",
        "            lr_short = LogisticRegression(penalty='none', max_iter=500)\n",
        "            lr_long = LogisticRegression(penalty='none', max_iter=500)\n",
        "            if len(temp_features) == 0:\n",
        "                const = pd.Series([1]*df.shape[0])\n",
        "                lr_short.fit(np.array(const).reshape(-1, 1), df[target])\n",
        "                ll_short = log_loss(df[target], lr_short.predict_proba(np.array(const).reshape(-1, 1))[:, 1], normalize=False) \n",
        "                lr_long.fit(np.array(df[selected_features]).reshape(-1, 1), df[target])\n",
        "                ll_long = log_loss(df[target], lr_long.predict_proba(np.array(df[selected_features]).reshape(-1, 1))[:, 1], normalize=False)\n",
        "            else:\n",
        "                lr_short.fit(df[temp_features], df[target])\n",
        "                ll_short = log_loss(df[target], lr_short.predict_proba(df[temp_features])[:, 1], normalize=False)\n",
        "                lr_long.fit(df[selected_features], df[target])\n",
        "                ll_long = log_loss(df[target], lr_long.predict_proba(df[selected_features])[:, 1], normalize=False)\n",
        "            if likelihood_ratio_test(ll_short, ll_long) > alpha_out and likelihood_ratio_test(ll_short, ll_long) > p_value:\n",
        "                p_value = likelihood_ratio_test(ll_short, ll_long)\n",
        "                worst_feature = feature\n",
        "        if worst_feature == '':\n",
        "              pass\n",
        "        else:\n",
        "            selected_features.remove(worst_feature)\n",
        "            print(f\"Из модели была исключена {worst_feature}, p-value: {round(p_value, 4)}\")\n",
        "        p_value = 1\n",
        "    return selected_features"
      ],
      "metadata": {
        "id": "BiU7z1oYOLAy"
      },
      "id": "BiU7z1oYOLAy",
      "execution_count": null,
      "outputs": []
    },
    {
      "cell_type": "code",
      "source": [
        "final_features = stepwise_selection(df, new_features, 10, 15, target='d4p12')\n",
        "print(final_features)"
      ],
      "metadata": {
        "colab": {
          "base_uri": "https://localhost:8080/"
        },
        "id": "qjVsVGxue8hh",
        "outputId": "d4671238-4f42-4744-d180-8eef625f1ebc"
      },
      "id": "qjVsVGxue8hh",
      "execution_count": null,
      "outputs": [
        {
          "output_type": "stream",
          "name": "stdout",
          "text": [
            "В модель была добавлена переменная soc_dem_score, p-value: 0.0\n",
            "В модель была добавлена переменная last_credit_time_years, p-value: 0.0\n",
            "В модель была добавлена переменная other_util, p-value: 0.0\n",
            "В модель была добавлена переменная max_util, p-value: 0.981\n",
            "['soc_dem_score', 'last_credit_time_years', 'other_util', 'max_util']\n"
          ]
        }
      ]
    },
    {
      "cell_type": "code",
      "source": [
        "# Сделаем новый трейн, в который добавим и валидационную выборку и трейн. Возможно, это даст нам небольшой прирост в качестве. \n",
        "\n",
        "X_new_train = df[(df['sample_part'] == 'train') | (df['sample_part'] == 'validation')][final_features]\n",
        "y_new_train = df[(df['sample_part'] == 'train') | (df['sample_part'] == 'validation')]['d4p12']\n",
        "\n",
        "X_new_test = df[df['sample_part'] == 'test'][final_features]"
      ],
      "metadata": {
        "id": "TWsreSNRhGyO"
      },
      "id": "TWsreSNRhGyO",
      "execution_count": null,
      "outputs": []
    },
    {
      "cell_type": "code",
      "source": [
        "model = LogisticRegression(penalty='none')\n",
        "model.fit(X_new_train, y_new_train)"
      ],
      "metadata": {
        "colab": {
          "base_uri": "https://localhost:8080/"
        },
        "id": "BcMXLNWrmdJG",
        "outputId": "6395e095-1c60-4e49-f2b4-d000ea73cf97"
      },
      "id": "BcMXLNWrmdJG",
      "execution_count": null,
      "outputs": [
        {
          "output_type": "execute_result",
          "data": {
            "text/plain": [
              "LogisticRegression(penalty='none')"
            ]
          },
          "metadata": {},
          "execution_count": 213
        }
      ]
    },
    {
      "cell_type": "code",
      "source": [
        "pred_val = model.predict_proba(X_new_test)[:, 1]"
      ],
      "metadata": {
        "id": "aSjgx96Mmk0p"
      },
      "id": "aSjgx96Mmk0p",
      "execution_count": null,
      "outputs": []
    },
    {
      "cell_type": "markdown",
      "source": [
        "Визуализируем важность признаков аналогично семинару"
      ],
      "metadata": {
        "id": "U3Qjfbqwnpf-"
      },
      "id": "U3Qjfbqwnpf-"
    },
    {
      "cell_type": "code",
      "source": [
        "pipe = Pipeline([('scaler', StandardScaler()), ('model', LogisticRegression(penalty='none', fit_intercept=True, max_iter=1500))])\n",
        "pipe.fit(df[final_features[:25]][df['sample_part'] == 'train'],\\\n",
        "         df['d4p12'][df['sample_part'] == 'train'])"
      ],
      "metadata": {
        "colab": {
          "base_uri": "https://localhost:8080/"
        },
        "id": "03H0e2eGnaTv",
        "outputId": "38e8ab80-aea4-46c5-b63f-6a148b1913d3"
      },
      "id": "03H0e2eGnaTv",
      "execution_count": null,
      "outputs": [
        {
          "output_type": "execute_result",
          "data": {
            "text/plain": [
              "Pipeline(steps=[('scaler', StandardScaler()),\n",
              "                ('model', LogisticRegression(max_iter=1500, penalty='none'))])"
            ]
          },
          "metadata": {},
          "execution_count": 224
        }
      ]
    },
    {
      "cell_type": "code",
      "source": [
        "df['logreg_predict'] = pipe.predict_proba(df[final_features])[:, 1]"
      ],
      "metadata": {
        "id": "uONgg9WRnei7"
      },
      "id": "uONgg9WRnei7",
      "execution_count": null,
      "outputs": []
    },
    {
      "cell_type": "code",
      "source": [
        "coef = pd.DataFrame(pipe.get_params()['model'].coef_[0],index=final_features[:25], columns=['feature_importance']).sort_values(by=['feature_importance'])\n",
        "plot = sns.barplot(y=coef.index, x=coef['feature_importance'])\n",
        "plot.figure.set_size_inches(12, 12)"
      ],
      "metadata": {
        "colab": {
          "base_uri": "https://localhost:8080/",
          "height": 715
        },
        "id": "DTO37BLJngnD",
        "outputId": "ea72f3e4-29ac-4b45-861c-10c543815b2a"
      },
      "id": "DTO37BLJngnD",
      "execution_count": null,
      "outputs": [
        {
          "output_type": "display_data",
          "data": {
            "text/plain": [
              "<Figure size 864x864 with 1 Axes>"
            ],
            "image/png": "[encoded data removed]"
          },
          "metadata": {
            "needs_background": "light"
          }
        }
      ]
    },
    {
      "cell_type": "markdown",
      "source": [
        "Сделаем предикт с помощью логистической регресси на отобранных признаках"
      ],
      "metadata": {
        "id": "9HsmFoOnoT2q"
      },
      "id": "9HsmFoOnoT2q"
    },
    {
      "cell_type": "code",
      "source": [
        "y_new_test = df[df['sample_part'] == 'test']['d4p12']\n",
        "score = roc_auc_score(y_new_test, pred_val)\n",
        "roc_auc(y_new_test, pred_val)"
      ],
      "metadata": {
        "colab": {
          "base_uri": "https://localhost:8080/",
          "height": 475
        },
        "id": "1LyUq9FhoQvD",
        "outputId": "fe681168-fd04-4077-b5b2-d88ee8cffea2"
      },
      "id": "1LyUq9FhoQvD",
      "execution_count": null,
      "outputs": [
        {
          "output_type": "execute_result",
          "data": {
            "text/plain": [
              "0.6196761000376547"
            ]
          },
          "metadata": {},
          "execution_count": 219
        },
        {
          "output_type": "display_data",
          "data": {
            "text/plain": [
              "<Figure size 504x504 with 1 Axes>"
            ],
            "image/png": "[encoded data removed]"
          },
          "metadata": {
            "needs_background": "light"
          }
        }
      ]
    },
    {
      "cell_type": "markdown",
      "source": [
        "Получилось, что метрика для логистической регрессии оказалось немного хуже, чем для бустинга. Почему так может быть? Во-первых, как мне кажется, бустинг очень хорошо подстраивается для получению необходимого качества за счет своего гибкого настроя гиперпараметров. Во-вторых в силу кол-ва решающих деревьев, бустинг хорошо подстраивается под конкретную задачу. Думаю, что эти причины и могут продвигать его немного вперед в сравнении с логистической регрессией.  "
      ],
      "metadata": {
        "id": "JnYtt2ZfoLZ3"
      },
      "id": "JnYtt2ZfoLZ3"
    },
    {
      "cell_type": "markdown",
      "source": [
        "Моя модель не переобучилась. Во-первых, на тесте качество примерно такое же как и на тесте и далеко от 1. Во-вторых, я посмотрел на результат работы градиентного бустинга, а здесь качество оказалось примерно таким же. Из этого можно сделать вывод, что модель не переобучилась. Также это видно из графической интерпритации roc_auc. \n",
        "\n",
        "Очень классная домашка.Спасибо)). Хотелось бы конечно уделить ей еще больше времени, но университет, к сожалению, не позволил. "
      ],
      "metadata": {
        "id": "KhM8V-5z623f"
      },
      "id": "KhM8V-5z623f"
    },
    {
      "cell_type": "markdown",
      "metadata": {
        "id": "742b60db"
      },
      "source": [
        "- [x]  Признаки отобраны по ROC-AUC\n",
        "- [x]  EDA проведён\n",
        "- [x]  Корреляты удалены\n",
        "- [x]  Градиентный бустинг обучен и достигает нужного качества\n",
        "- [x]  Самые сильные признаки отобраны\n",
        "- [x] реализован \n",
        "- [x]  Линейная модель обучена, проанализирована сила признаков \n",
        "- [x]  Метрики на тесте посчитаны\n",
        "- [x]  Проведено сравнение качества моделей, выдвинуты гипотезы о причинах наблюдаемых результатов"
      ],
      "id": "742b60db"
    },
    {
      "cell_type": "markdown",
      "source": [
        ""
      ],
      "metadata": {
        "id": "e51JLeEbniYi"
      },
      "id": "e51JLeEbniYi"
    }
  ],
  "metadata": {
    "colab": {
      "name": "Project HW 6.ipynb",
      "provenance": []
    },
    "kernelspec": {
      "display_name": "Python 3",
      "language": "python",
      "name": "python3"
    },
    "language_info": {
      "codemirror_mode": {
        "name": "ipython",
        "version": 3
      },
      "file_extension": ".py",
      "mimetype": "text/x-python",
      "name": "python",
      "nbconvert_exporter": "python",
      "pygments_lexer": "ipython3",
      "version": "3.8.8"
    },
    "toc": {
      "base_numbering": 1,
      "nav_menu": {},
      "number_sections": true,
      "sideBar": true,
      "skip_h1_title": false,
      "title_cell": "Table of Contents",
      "title_sidebar": "Contents",
      "toc_cell": false,
      "toc_position": {},
      "toc_section_display": true,
      "toc_window_display": false
    },
    "varInspector": {
      "cols": {
        "lenName": 16,
        "lenType": 16,
        "lenVar": 40
      },
      "kernels_config": {
        "python": {
          "delete_cmd_postfix": "",
          "delete_cmd_prefix": "del ",
          "library": "var_list.py",
          "varRefreshCmd": "print(var_dic_list())"
        },
        "r": {
          "delete_cmd_postfix": ") ",
          "delete_cmd_prefix": "rm(",
          "library": "var_list.r",
          "varRefreshCmd": "cat(var_dic_list()) "
        }
      },
      "types_to_exclude": [
        "module",
        "function",
        "builtin_function_or_method",
        "instance",
        "_Feature"
      ],
      "window_display": false
    }
  },
  "nbformat": 4,
  "nbformat_minor": 5
}